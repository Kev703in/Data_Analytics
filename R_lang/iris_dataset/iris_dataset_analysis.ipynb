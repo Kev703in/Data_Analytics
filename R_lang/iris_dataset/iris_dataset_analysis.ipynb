{
 "cells": [
  {
   "cell_type": "code",
   "execution_count": null,
   "metadata": {},
   "outputs": [],
   "source": [
    "# Load necessary libraries\n",
    "library(tidyverse)\n",
    "library(caret)\n",
    "library(randomForest)\n",
    "\n",
    "# Load the Iris dataset\n",
    "data(\"iris\")\n",
    "\n",
    "# Display the first few rows of the dataset\n",
    "head(iris)\n",
    "\n",
    "# Check for missing values\n",
    "sum(is.na(iris))\n",
    "\n",
    "# Pairplot to visualize relationships between features\n",
    "pairs(iris, col = iris$Species)\n",
    "\n",
    "# Boxplot to visualize the distribution of each feature\n",
    "iris_long <- pivot_longer(iris, cols = -Species, names_to = \"Feature\", values_to = \"Value\")\n",
    "ggplot(iris_long, aes(x = Feature, y = Value, fill = Species)) +\n",
    "  geom_boxplot() +\n",
    "  theme_minimal()\n",
    "\n",
    "# Split the dataset into training and testing sets\n",
    "set.seed(42)\n",
    "trainIndex <- createDataPartition(iris$Species, p = 0.8, list = FALSE)\n",
    "iris_train <- iris[trainIndex, ]\n",
    "iris_test <- iris[-trainIndex, ]\n",
    "\n",
    "# Standardize the features\n",
    "preProc <- preProcess(iris_train[, -5], method = c(\"center\", \"scale\"))\n",
    "iris_train_scaled <- predict(preProc, iris_train[, -5])\n",
    "iris_test_scaled <- predict(preProc, iris_test[, -5])\n",
    "\n",
    "# Initialize the Random Forest classifier\n",
    "rf_model <- randomForest(Species ~ ., data = iris_train, ntree = 100, random_state = 42)\n",
    "\n",
    "# Make predictions\n",
    "rf_predictions <- predict(rf_model, iris_test)\n",
    "\n",
    "# Evaluate the model\n",
    "confusion_matrix <- confusionMatrix(rf_predictions, iris_test$Species)\n",
    "print(confusion_matrix)\n"
   ]
  }
 ],
 "metadata": {
  "language_info": {
   "name": "python"
  }
 },
 "nbformat": 4,
 "nbformat_minor": 2
}
